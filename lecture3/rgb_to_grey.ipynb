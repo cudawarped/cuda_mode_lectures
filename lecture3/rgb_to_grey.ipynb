{
 "cells": [
  {
   "cell_type": "code",
   "execution_count": 1,
   "id": "7d3108f1-2329-4811-af33-313d988ad423",
   "metadata": {},
   "outputs": [],
   "source": [
    "import torch, os, math\n",
    "import torchvision as tv\n",
    "import torchvision.transforms.functional as tvf\n",
    "from torchvision import io\n",
    "import matplotlib.pyplot as plt\n",
    "from torch.utils.cpp_extension import load_inline"
   ]
  },
  {
   "cell_type": "code",
   "execution_count": 2,
   "id": "9617a758-151b-4326-93f5-9b5c5759e3f0",
   "metadata": {},
   "outputs": [
    {
     "data": {
      "text/plain": [
       "_CudaDeviceProperties(name='NVIDIA GeForce RTX 3070 Ti Laptop GPU', major=8, minor=6, total_memory=8191MB, multi_processor_count=46)"
      ]
     },
     "execution_count": 2,
     "metadata": {},
     "output_type": "execute_result"
    }
   ],
   "source": [
    "torch.cuda.get_device_properties(0)"
   ]
  },
  {
   "cell_type": "code",
   "execution_count": 3,
   "id": "d0068167-59b6-4ed5-8412-9cada0d9f8a4",
   "metadata": {},
   "outputs": [],
   "source": [
    "img = io.read_image('puppy.jpg')\n",
    "img_grey_gs = (0.2989*img[0,:,:] + 0.5870*img[1,:,:] + 0.1140*img[2,:,:]).type(torch.uint8)"
   ]
  },
  {
   "cell_type": "code",
   "execution_count": 4,
   "id": "fa0f4f9f-fc37-41fc-9604-6c1f578d6cd7",
   "metadata": {},
   "outputs": [],
   "source": [
    "def assert_equal(img_1, img_2, atol = 1):\n",
    "    assert torch.isclose(img_1,img_2, atol=atol).all()"
   ]
  },
  {
   "cell_type": "code",
   "execution_count": 5,
   "id": "7a77194e-e103-4f8b-9845-442ccf11e6a4",
   "metadata": {},
   "outputs": [],
   "source": [
    "def show_img(x, figsize=(4,3), **kwargs):\n",
    "    plt.figure(figsize=figsize)\n",
    "    plt.axis('off')\n",
    "    if len(x.shape)==3: x = x.permute(1,2,0)  # CHW -> HWC\n",
    "    plt.imshow(x.cpu(), **kwargs)"
   ]
  },
  {
   "cell_type": "code",
   "execution_count": 6,
   "id": "c1b9bfc6-e9f9-4ddd-a80b-459cb2b4353c",
   "metadata": {},
   "outputs": [],
   "source": [
    "%load_ext wurlitzer"
   ]
  },
  {
   "cell_type": "code",
   "execution_count": 7,
   "id": "fbe1cccf-3945-4b9b-8ae6-571587921da9",
   "metadata": {},
   "outputs": [],
   "source": [
    "def load_cuda(cuda_src, cpp_src, funcs, opt=False, verbose=False):\n",
    "    return load_inline(cuda_sources=[cuda_src], cpp_sources=[cpp_src], functions=funcs,\n",
    "                       extra_cuda_cflags=[\"-O2\"] if opt else [], verbose=verbose, name=\"inline_ext\")"
   ]
  },
  {
   "cell_type": "code",
   "execution_count": 8,
   "id": "48be7b6b-767c-4f9f-8a37-7f45294eab4a",
   "metadata": {},
   "outputs": [],
   "source": [
    "cuda_begin = r'''\n",
    "#include <torch/extension.h>\n",
    "#include <stdio.h>\n",
    "#include <c10/cuda/CUDAException.h>\n",
    "\n",
    "#define CHECK_CUDA(x) TORCH_CHECK(x.device().is_cuda(), #x \" must be a CUDA tensor\")\n",
    "#define CHECK_CONTIGUOUS(x) TORCH_CHECK(x.is_contiguous(), #x \" must be contiguous\")\n",
    "#define CHECK_INPUT(x) CHECK_CUDA(x); CHECK_CONTIGUOUS(x)\n",
    "\n",
    "inline unsigned int cdiv(unsigned int a, unsigned int b) { return (a + b - 1) / b;}\n",
    "'''"
   ]
  },
  {
   "cell_type": "code",
   "execution_count": 9,
   "id": "48c2f529-f5ef-4432-af6d-3404dbe93268",
   "metadata": {},
   "outputs": [],
   "source": [
    "cuda_src = cuda_begin + r'''\n",
    "#include <cub/block/block_load.cuh>\n",
    "#include <cub/block/block_store.cuh>\n",
    "\n",
    "template<typename T>\n",
    "__device__ unsigned char rgb_to_gray(const unsigned char r, const unsigned char g, const unsigned char b){\n",
    "    return static_cast<T>(0.2989)*r +  static_cast<T>(0.5870)*g + static_cast<T>(0.1140)*b;\n",
    "}\n",
    "\n",
    "template<typename T>\n",
    "__global__ void rgb_to_grayscale_kernel(unsigned char* x, unsigned char* out, int n) {\n",
    "    int i = blockIdx.x*blockDim.x + threadIdx.x;\n",
    "    if (i<n) out[i] = rgb_to_gray<T>(x[i], x[i+n], x[i+2*n]);\n",
    "}\n",
    "\n",
    "__global__ void rgb_to_grayscale_kernel_int(unsigned char* x, unsigned char* out, int n) {\n",
    "    int i = blockIdx.x*blockDim.x + threadIdx.x;\n",
    "    if (i<n) out[i] = ((77*x[i] + 150*x[i+n] + 29*x[i+2*n]) >> 8);\n",
    "}\n",
    "\n",
    "template<typename T>\n",
    "__device__ void rgb_to_gray(const unsigned int rVec, const unsigned int gVec, const unsigned int bVec, unsigned int* greyVec){\n",
    "    unsigned char* grey = (unsigned char*)greyVec;\n",
    "    for (int i = 0; i < 4; i++) {\n",
    "        const unsigned char r = ((const unsigned char*)&rVec)[i];\n",
    "        const unsigned char g = ((const unsigned char*)&gVec)[i];\n",
    "        const unsigned char b = ((const unsigned char*)&bVec)[i];\n",
    "        grey[i] = rgb_to_gray<T>(r,g,b);\n",
    "    }\n",
    "}\n",
    "\n",
    "// coalesced read/write - example implementation without handler for unaligned memory or width which is not divisible by 4\n",
    "template<typename T>\n",
    "__global__ void rgb_to_grayscale_kernel_coalesced(unsigned char* x, unsigned char* out, int n) {\n",
    "    int idx = blockIdx.x*blockDim.x + threadIdx.x;\n",
    "    if(idx>n) return;\n",
    "    unsigned int *xUint = (unsigned int*)x;\n",
    "    const unsigned int r = xUint[idx];\n",
    "    const unsigned int g = xUint[idx+n];\n",
    "    const unsigned int b = xUint[idx+2*n];\n",
    "    unsigned int gray;\n",
    "    rgb_to_gray<T>(r,g,b, &gray);\n",
    "    unsigned int *outUint = (unsigned int*)out;\n",
    "    outUint[idx] =  gray;\n",
    "}\n",
    "\n",
    "// vectorized coalesced read/write, no computation baseline\n",
    "__global__ void rgb_to_r(unsigned char* x, unsigned char* out, int n) {\n",
    "    int idx = blockIdx.x*blockDim.x + threadIdx.x;\n",
    "    if(idx > n) return;\n",
    "    uint2 *inUint2 = (uint2*)x;\n",
    "    uint2 *outUint2 = (uint2*)out;\n",
    "    outUint2[idx] = inUint2[idx];\n",
    "}\n",
    "\n",
    "// vectorized coalesced read/write -  no safety checking\n",
    "template<typename T>\n",
    "__global__ void rgb_to_grayscale_kernel_coalesced_uint2(unsigned char* x, unsigned char* out, int n) {\n",
    "    int idx = blockIdx.x*blockDim.x + threadIdx.x;\n",
    "    if(idx > n) return;\n",
    "    uint2 *xUint = (uint2*)x;\n",
    "    uint2 greyVec;\n",
    "    rgb_to_gray<T>(xUint[idx].x, xUint[idx+n].x, xUint[idx+2*n].x, &greyVec.x);\n",
    "    rgb_to_gray<T>(xUint[idx].y, xUint[idx+n].y, xUint[idx+2*n].y, &greyVec.y);\n",
    "    uint2 *outUint = (uint2*)out;\n",
    "    outUint[idx] = greyVec;\n",
    "}\n",
    "\n",
    "// cub load/store - no safety checking\n",
    "template<typename T, int BLOCK_THREADS, int ITEMS_PER_THREAD>\n",
    "__global__ void rgb_to_grayscale_cub(unsigned char* x, unsigned char* out, int n) {\n",
    "    enum { TILE_SIZE = BLOCK_THREADS * ITEMS_PER_THREAD };\n",
    "    typedef cub::BlockLoad<unsigned char, BLOCK_THREADS, ITEMS_PER_THREAD, cub::BLOCK_LOAD_VECTORIZE > BlockLoad;\n",
    "    typedef cub::BlockStore<unsigned char, BLOCK_THREADS, ITEMS_PER_THREAD, cub::BLOCK_STORE_VECTORIZE> BlockStore;\n",
    "    __shared__ union TempStorage\n",
    "    {\n",
    "        typename BlockLoad::TempStorage    load;\n",
    "        typename BlockStore::TempStorage   store;\n",
    "    } temp_storage;\n",
    "\n",
    "    unsigned char r[ITEMS_PER_THREAD];\n",
    "    unsigned char g[ITEMS_PER_THREAD];\n",
    "    unsigned char b[ITEMS_PER_THREAD];\n",
    "    unsigned char grey[ITEMS_PER_THREAD];\n",
    "    const int blockOffset = blockIdx.x * TILE_SIZE;\n",
    "    BlockLoad(temp_storage.load).Load(x + blockOffset, r);\n",
    "    BlockLoad(temp_storage.load).Load(x + blockOffset + n, g);\n",
    "    BlockLoad(temp_storage.load).Load(x + blockOffset + 2*n, b);\n",
    "\n",
    "    for(int i = 0; i < ITEMS_PER_THREAD; i++)\n",
    "        grey[i] = rgb_to_gray<T>(r[i],g[i],b[i]);\n",
    "\n",
    "    BlockStore(temp_storage.store).Store(out + blockOffset, grey);\n",
    "}\n",
    "\n",
    "void rgb_to_grayscale(torch::Tensor input, torch::Tensor output, int approach, bool internalTimer) {\n",
    "    CHECK_INPUT(input);\n",
    "    int h = input.size(1);\n",
    "    int w = input.size(2);\n",
    "    constexpr int threads = 256;\n",
    "    cudaEvent_t start, end;\n",
    "    if(internalTimer){ \n",
    "        cudaEventCreate(&start);\n",
    "        cudaEventCreate(&end);\n",
    "        cudaEventRecord(start);\n",
    "    }\n",
    "    switch(approach){\n",
    "    case 0:\n",
    "        rgb_to_grayscale_kernel<double><<<cdiv(w*h,threads), threads>>>(\n",
    "            input.data_ptr<unsigned char>(), output.data_ptr<unsigned char>(), w*h);\n",
    "        break;\n",
    "    case 1:\n",
    "        rgb_to_grayscale_kernel<float><<<cdiv(w*h,threads), threads>>>(\n",
    "            input.data_ptr<unsigned char>(), output.data_ptr<unsigned char>(), w*h);\n",
    "        break;\n",
    "    case 2:\n",
    "        rgb_to_grayscale_kernel_int<<<cdiv(w*h,threads), threads>>>(\n",
    "            input.data_ptr<unsigned char>(), output.data_ptr<unsigned char>(), w*h);\n",
    "        break;\n",
    "    case 3:\n",
    "        rgb_to_grayscale_kernel_coalesced<float><<<cdiv(w/4*h,threads), threads>>>(\n",
    "            input.data_ptr<unsigned char>(), output.data_ptr<unsigned char>(), w/4*h);\n",
    "            break;\n",
    "    case 4:\n",
    "        rgb_to_grayscale_kernel_coalesced_uint2<float><<<cdiv(w/8*h,threads), threads>>>(\n",
    "            input.data_ptr<unsigned char>(), output.data_ptr<unsigned char>(), w/8*h);\n",
    "            break;\n",
    "    case 5:\n",
    "        rgb_to_r<<<cdiv(w/8*h,threads), threads>>>(\n",
    "            input.data_ptr<unsigned char>(), output.data_ptr<unsigned char>(), w/8*h);\n",
    "            break;\n",
    "    case 6:\n",
    "        rgb_to_grayscale_cub<float, threads,8><<<cdiv(w*h/8,threads), threads>>>(\n",
    "            input.data_ptr<unsigned char>(), output.data_ptr<unsigned char>(), w*h);\n",
    "        }\n",
    "            \n",
    "    if(internalTimer){\n",
    "        cudaEventRecord(end);\n",
    "        cudaEventSynchronize(end);\n",
    "        float ms;\n",
    "        cudaEventElapsedTime(&ms, start, end);\n",
    "        printf(\"elTime (ns): %.2f\\n\", ms*1000);        \n",
    "        cudaEventDestroy(start);\n",
    "        cudaEventDestroy(end);\n",
    "    }\n",
    "}'''"
   ]
  },
  {
   "cell_type": "code",
   "execution_count": 10,
   "id": "d95e7ea3-966f-4485-b7c6-782723b3d9bf",
   "metadata": {},
   "outputs": [],
   "source": [
    "cpp_src = \"void rgb_to_grayscale(torch::Tensor input, torch::Tensor output, int approach, bool internalTimer);\""
   ]
  },
  {
   "cell_type": "code",
   "execution_count": 11,
   "id": "7c4e8e03-4bc0-42e8-ae30-abf8d37a214b",
   "metadata": {},
   "outputs": [
    {
     "name": "stderr",
     "output_type": "stream",
     "text": [
      "Using /home/b/.cache/torch_extensions/py311_cu121 as PyTorch extensions root...\n",
      "Detected CUDA files, patching ldflags\n",
      "Emitting ninja build file /home/b/.cache/torch_extensions/py311_cu121/inline_ext/build.ninja...\n",
      "Building extension module inline_ext...\n",
      "Allowing ninja to set a default number of workers... (overridable by setting the environment variable MAX_JOBS=N)\n"
     ]
    },
    {
     "name": "stdout",
     "output_type": "stream",
     "text": [
      "ninja: no work to do.\n"
     ]
    },
    {
     "name": "stderr",
     "output_type": "stream",
     "text": [
      "Loading extension module inline_ext...\n"
     ]
    }
   ],
   "source": [
    "module = load_cuda(cuda_src, cpp_src, ['rgb_to_grayscale'], verbose=True)"
   ]
  },
  {
   "cell_type": "code",
   "execution_count": 12,
   "id": "b2ff6bd1-28d2-4154-ab9e-b9bc6e21efb1",
   "metadata": {},
   "outputs": [
    {
     "data": {
      "text/plain": [
       "['rgb_to_grayscale']"
      ]
     },
     "execution_count": 12,
     "metadata": {},
     "output_type": "execute_result"
    }
   ],
   "source": [
    "[o for o in dir(module) if o[0]!='_']"
   ]
  },
  {
   "cell_type": "code",
   "execution_count": 13,
   "id": "270759f7-a0df-4ff2-91ef-22555bfd85d3",
   "metadata": {},
   "outputs": [],
   "source": [
    "imgc = img.contiguous().cuda()\n",
    "img_grey = torch.zeros((imgc.size(1),imgc.size(2)), dtype=torch.uint8).cuda() # ensure new return image after each run"
   ]
  },
  {
   "cell_type": "markdown",
   "id": "0d410e4e-6613-4850-89ec-5e32ddcdc80c",
   "metadata": {},
   "source": [
    "### Double"
   ]
  },
  {
   "cell_type": "code",
   "execution_count": 14,
   "id": "24a5e4d2-8997-47d6-8098-032511f90f43",
   "metadata": {
    "scrolled": true
   },
   "outputs": [
    {
     "name": "stdout",
     "output_type": "stream",
     "text": [
      "elTime (ns): 151.55\n",
      "elTime (ns): 151.55\n",
      "elTime (ns): 151.55\n",
      "elTime (ns): 150.53\n",
      "elTime (ns): 151.55\n",
      "elTime (ns): 151.49\n",
      "elTime (ns): 151.55\n",
      "elTime (ns): 151.55\n",
      "elTime (ns): 151.36\n",
      "elTime (ns): 151.42\n"
     ]
    }
   ],
   "source": [
    "img_grey.zero_()\n",
    "for i in range(1000): module.rgb_to_grayscale(imgc, img_grey, 0, False)\n",
    "for i in range(10): module.rgb_to_grayscale(imgc, img_grey, 0, True)\n",
    "assert_equal(img_grey_gs, img_grey.cpu())"
   ]
  },
  {
   "cell_type": "code",
   "execution_count": 15,
   "id": "d92afd69-25f1-4c99-a67e-1044a09b9114",
   "metadata": {},
   "outputs": [
    {
     "data": {
      "image/png": "[encoded data removed]",
      "text/plain": [
       "<Figure size 400x300 with 1 Axes>"
      ]
     },
     "metadata": {},
     "output_type": "display_data"
    }
   ],
   "source": [
    "show_img(img_grey.cpu(), cmap='gray')"
   ]
  },
  {
   "cell_type": "markdown",
   "id": "dc82c7ea-199b-49a9-acf2-28079a046000",
   "metadata": {},
   "source": [
    "### Float"
   ]
  },
  {
   "cell_type": "code",
   "execution_count": 16,
   "id": "a5b04f79-cc76-416d-b725-cbbbbda8d600",
   "metadata": {
    "scrolled": true
   },
   "outputs": [
    {
     "name": "stdout",
     "output_type": "stream",
     "text": [
      "elTime (ns): 30.88\n",
      "elTime (ns): 30.72\n",
      "elTime (ns): 30.59\n",
      "elTime (ns): 30.66\n",
      "elTime (ns): 30.72\n",
      "elTime (ns): 30.46\n",
      "elTime (ns): 30.59\n",
      "elTime (ns): 29.70\n",
      "elTime (ns): 29.70\n",
      "elTime (ns): 30.62\n"
     ]
    }
   ],
   "source": [
    "img_grey.zero_()\n",
    "for i in range(1000): module.rgb_to_grayscale(imgc,  img_grey, 1, False)\n",
    "for i in range(10): module.rgb_to_grayscale(imgc,  img_grey, 1, True)\n",
    "assert_equal(img_grey_gs, img_grey.cpu())"
   ]
  },
  {
   "cell_type": "markdown",
   "id": "c02f2cd2-b17e-4187-9850-26fdfe61dfe9",
   "metadata": {},
   "source": [
    "## Int"
   ]
  },
  {
   "cell_type": "code",
   "execution_count": 17,
   "id": "f98adefc-974d-43fb-916f-23d437fe5bc3",
   "metadata": {
    "scrolled": true
   },
   "outputs": [
    {
     "name": "stdout",
     "output_type": "stream",
     "text": [
      "elTime (ns): 31.74\n",
      "elTime (ns): 33.79\n",
      "elTime (ns): 30.72\n",
      "elTime (ns): 30.72\n",
      "elTime (ns): 30.72\n",
      "elTime (ns): 29.70\n",
      "elTime (ns): 29.70\n",
      "elTime (ns): 29.70\n",
      "elTime (ns): 29.50\n",
      "elTime (ns): 29.70\n"
     ]
    }
   ],
   "source": [
    "img_grey.zero_()\n",
    "for i in range(1000): module.rgb_to_grayscale(imgc,  img_grey, 2, False)\n",
    "for i in range(10): module.rgb_to_grayscale(imgc,  img_grey, 2, True)\n",
    "assert_equal(img_grey_gs, img_grey.cpu())"
   ]
  },
  {
   "cell_type": "markdown",
   "id": "9524d46f-6d9e-4a7c-97ec-856c8ae33d36",
   "metadata": {},
   "source": [
    "## Float with coalesced uint reads/writes"
   ]
  },
  {
   "cell_type": "code",
   "execution_count": 18,
   "id": "79fbed69-eb13-48a9-a885-96f40224a6dd",
   "metadata": {},
   "outputs": [
    {
     "name": "stdout",
     "output_type": "stream",
     "text": [
      "elTime (ns): 27.84\n",
      "elTime (ns): 27.65\n",
      "elTime (ns): 27.84\n",
      "elTime (ns): 27.62\n",
      "elTime (ns): 27.65\n",
      "elTime (ns): 26.98\n",
      "elTime (ns): 27.65\n",
      "elTime (ns): 27.36\n",
      "elTime (ns): 26.78\n",
      "elTime (ns): 27.65\n"
     ]
    }
   ],
   "source": [
    "img_grey.zero_()\n",
    "for i in range(1000): module.rgb_to_grayscale(imgc,  img_grey, 3, False)\n",
    "for i in range(10): module.rgb_to_grayscale(imgc,  img_grey, 3, True)\n",
    "assert_equal(img_grey_gs, img_grey.cpu())"
   ]
  },
  {
   "cell_type": "markdown",
   "id": "5db9cedf-2b6f-464e-b7df-6a0c8b5bd1da",
   "metadata": {},
   "source": [
    "## Float with vectorized coaleced uint2 reads/writes"
   ]
  },
  {
   "cell_type": "code",
   "execution_count": 19,
   "id": "bf2e096b-0e00-4efb-b54b-f21ed1e3fc70",
   "metadata": {},
   "outputs": [
    {
     "name": "stdout",
     "output_type": "stream",
     "text": [
      "elTime (ns): 27.65\n",
      "elTime (ns): 27.65\n",
      "elTime (ns): 26.62\n",
      "elTime (ns): 27.65\n",
      "elTime (ns): 28.58\n",
      "elTime (ns): 26.62\n",
      "elTime (ns): 27.42\n",
      "elTime (ns): 27.65\n",
      "elTime (ns): 27.65\n",
      "elTime (ns): 27.65\n"
     ]
    }
   ],
   "source": [
    "img_grey.zero_()\n",
    "for i in range(1000): module.rgb_to_grayscale(imgc,  img_grey, 4, False)\n",
    "for i in range(10): module.rgb_to_grayscale(imgc,  img_grey, 4, True)\n",
    "assert_equal(img_grey_gs, img_grey.cpu())"
   ]
  },
  {
   "cell_type": "markdown",
   "id": "51818562-6d65-4476-9d1c-4cf573e1b18f",
   "metadata": {},
   "source": [
    "## Memory transfer cost - coalesced reads/writes of R plane"
   ]
  },
  {
   "cell_type": "code",
   "execution_count": 20,
   "id": "ac3854f8-ea60-4bbe-8784-33f7d20f5532",
   "metadata": {},
   "outputs": [
    {
     "name": "stdout",
     "output_type": "stream",
     "text": [
      "elTime (ns): 12.29\n",
      "elTime (ns): 12.32\n",
      "elTime (ns): 12.29\n",
      "elTime (ns): 12.29\n",
      "elTime (ns): 12.29\n",
      "elTime (ns): 12.48\n",
      "elTime (ns): 12.10\n",
      "elTime (ns): 12.29\n",
      "elTime (ns): 11.26\n",
      "elTime (ns): 13.15\n"
     ]
    }
   ],
   "source": [
    "img_grey.zero_()\n",
    "for i in range(1000): module.rgb_to_grayscale(imgc,  img_grey, 5, False)\n",
    "for i in range(10): module.rgb_to_grayscale(imgc,  img_grey, 5, True)\n",
    "assert_equal(img[0,:,:], img_grey.cpu())"
   ]
  },
  {
   "cell_type": "markdown",
   "id": "0da57a6a-bd84-4e1c-af49-0097555007bc",
   "metadata": {},
   "source": [
    "## Float calc with vectorized reads/writes using cub"
   ]
  },
  {
   "cell_type": "code",
   "execution_count": 21,
   "id": "5785f271-9a9d-41d8-b3b5-4f2582acb7c3",
   "metadata": {},
   "outputs": [
    {
     "name": "stdout",
     "output_type": "stream",
     "text": [
      "elTime (ns): 26.62\n",
      "elTime (ns): 27.65\n",
      "elTime (ns): 27.55\n",
      "elTime (ns): 27.52\n",
      "elTime (ns): 27.65\n",
      "elTime (ns): 26.62\n",
      "elTime (ns): 27.65\n",
      "elTime (ns): 27.65\n",
      "elTime (ns): 27.46\n",
      "elTime (ns): 27.65\n"
     ]
    }
   ],
   "source": [
    "img_grey.zero_()\n",
    "for i in range(1000): module.rgb_to_grayscale(imgc,  img_grey, 6, False)\n",
    "for i in range(10): module.rgb_to_grayscale(imgc,  img_grey, 6, True)\n",
    "assert_equal(img_grey_gs, img_grey.cpu())"
   ]
  },
  {
   "cell_type": "code",
   "execution_count": null,
   "id": "b9dbe3c3-f7fc-481a-941e-c00366c05ddb",
   "metadata": {},
   "outputs": [],
   "source": []
  }
 ],
 "metadata": {
  "kernelspec": {
   "display_name": "Python 3 (ipykernel)",
   "language": "python",
   "name": "python3"
  },
  "language_info": {
   "codemirror_mode": {
    "name": "ipython",
    "version": 3
   },
   "file_extension": ".py",
   "mimetype": "text/x-python",
   "name": "python",
   "nbconvert_exporter": "python",
   "pygments_lexer": "ipython3",
   "version": "3.11.5"
  }
 },
 "nbformat": 4,
 "nbformat_minor": 5
}
